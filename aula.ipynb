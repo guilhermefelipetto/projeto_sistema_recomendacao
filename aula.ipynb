{
 "cells": [
  {
   "cell_type": "markdown",
   "metadata": {},
   "source": [
    "# Aula - 11/02"
   ]
  },
  {
   "cell_type": "code",
   "execution_count": 4,
   "metadata": {},
   "outputs": [
    {
     "name": "stdout",
     "output_type": "stream",
     "text": [
      "True\n"
     ]
    }
   ],
   "source": [
    "# Tipos de dados basicos\n",
    "number = 10\n",
    "decimal = 2.5\n",
    "text = \"Hello World\" \n",
    "active = True\n",
    "\n",
    "print(active)"
   ]
  },
  {
   "cell_type": "code",
   "execution_count": 5,
   "metadata": {},
   "outputs": [
    {
     "name": "stdout",
     "output_type": "stream",
     "text": [
      "30\n"
     ]
    }
   ],
   "source": [
    "# Tipos de dados compostos\n",
    "lista = [1, 2, 3, 4, 5, 5]\n",
    "coordinates = (2, 1.5)\n",
    "unique = {1, 2, 3, 3, 4, 5, 5, 5, 5}\n",
    "data = {\"name\": \"Joao\", \"age\": 30}\n",
    "\n",
    "print(data[\"age\"])"
   ]
  },
  {
   "cell_type": "code",
   "execution_count": 6,
   "metadata": {},
   "outputs": [
    {
     "name": "stdout",
     "output_type": "stream",
     "text": [
      "Este e o horario\n",
      "2025-02-12 14:03:45.007843\n",
      "Este e o horario\n",
      "2025-02-12 14:03:47.008615\n"
     ]
    }
   ],
   "source": [
    "# Funcoes - Reutilizacao de Codigo\n",
    "from datetime import datetime\n",
    "from time import sleep\n",
    "\n",
    "def verifica_tempo():\n",
    "    print('Este e o horario')\n",
    "    print(datetime.now())\n",
    "\n",
    "verifica_tempo()\n",
    "sleep(2)\n",
    "verifica_tempo()"
   ]
  },
  {
   "cell_type": "code",
   "execution_count": 7,
   "metadata": {},
   "outputs": [
    {
     "name": "stdout",
     "output_type": "stream",
     "text": [
      "Hello, texto!\n"
     ]
    }
   ],
   "source": [
    "# Funcoes 2 - Reutilizacao de Codigo\n",
    "def hello_to(name):\n",
    "    print(f'Hello, {name}!')\n",
    "    \n",
    "    \n",
    "hello_to('texto')"
   ]
  },
  {
   "cell_type": "code",
   "execution_count": 8,
   "metadata": {},
   "outputs": [
    {
     "name": "stdout",
     "output_type": "stream",
     "text": [
      "<__main__.Car object at 0x0000028BD6698E00>\n"
     ]
    }
   ],
   "source": [
    "# Classes em Python - POO\n",
    "class Car:\n",
    "    def __init__(self, brand, horsepower):\n",
    "        self.brand = brand\n",
    "        self.horsepower = horsepower\n",
    "\n",
    "meu_carro = Car('Fiat', 100)\n",
    "print(meu_carro)"
   ]
  },
  {
   "cell_type": "code",
   "execution_count": 9,
   "metadata": {},
   "outputs": [
    {
     "name": "stdout",
     "output_type": "stream",
     "text": [
      "['Fiat', 1000]\n"
     ]
    }
   ],
   "source": [
    "# Classes - Dunder Methods\n",
    "class Car:\n",
    "    def __init__(self, brand, horsepower):\n",
    "        self.brand = brand\n",
    "        self.horsepower = horsepower\n",
    "\n",
    "    def __str__(self):\n",
    "        return str([self.brand, self.horsepower])\n",
    "\n",
    "meu_carro_2 = Car('Fiat', 1000)\n",
    "print(meu_carro_2)"
   ]
  },
  {
   "cell_type": "code",
   "execution_count": 10,
   "metadata": {},
   "outputs": [
    {
     "name": "stdout",
     "output_type": "stream",
     "text": [
      "indice: 0, valor: 0\n",
      "indice: 1, valor: 1\n",
      "indice: 2, valor: 2\n",
      "indice: 3, valor: 3\n",
      "indice: 4, valor: 4\n",
      "indice: 5, valor: 5\n",
      "indice: 6, valor: 6\n",
      "indice: 7, valor: 7\n",
      "indice: 8, valor: 8\n",
      "indice: 9, valor: 9\n",
      "indice: 10, valor: 10\n"
     ]
    }
   ],
   "source": [
    "#        0  1  2  3  4\n",
    "lista = [1, 2, 3, 4, 5]\n",
    "\n",
    "for idx, val in enumerate(range(11)):\n",
    "    print(f'indice: {idx}, valor: {val}')"
   ]
  },
  {
   "cell_type": "code",
   "execution_count": 11,
   "metadata": {},
   "outputs": [
    {
     "name": "stdout",
     "output_type": "stream",
     "text": [
      "0\n",
      "1\n",
      "2\n",
      "3\n",
      "4\n",
      "5\n",
      "6\n",
      "7\n",
      "8\n",
      "9\n"
     ]
    }
   ],
   "source": [
    "i = 0\n",
    "while i < 10:\n",
    "    print(i)\n",
    "    i += 1"
   ]
  },
  {
   "cell_type": "markdown",
   "metadata": {},
   "source": [
    "## Sistema de Recomendacao - Notas"
   ]
  },
  {
   "cell_type": "code",
   "execution_count": 12,
   "metadata": {},
   "outputs": [
    {
     "data": {
      "text/plain": [
       "0          1\n",
       "1          2\n",
       "2          3\n",
       "3          4\n",
       "4          5\n",
       "        ... \n",
       "3495    3496\n",
       "3496    3497\n",
       "3497    3498\n",
       "3498    3499\n",
       "3499    3500\n",
       "Name: ID_Cliente, Length: 3500, dtype: int64"
      ]
     },
     "execution_count": 12,
     "metadata": {},
     "output_type": "execute_result"
    }
   ],
   "source": [
    "# Carregando os dados\n",
    "import pandas as pd\n",
    "\n",
    "clientes_df = pd.read_csv(\"data/clientes.csv\")\n",
    "tenis_df = pd.read_csv(\"data/tenis.csv\")\n",
    "compras_df = pd.read_csv(\"data/compras.csv\")\n",
    "\n",
    "clientes_df[\"ID_Cliente\"]"
   ]
  },
  {
   "cell_type": "code",
   "execution_count": 13,
   "metadata": {},
   "outputs": [
    {
     "name": "stdout",
     "output_type": "stream",
     "text": [
      "ID_Cliente                          1000\n",
      "Nome                    Fernanda Martins\n",
      "Email         fernanda.martins@gmail.com\n",
      "Idade                                 42\n",
      "Genero                         Masculino\n",
      "Name: 999, dtype: object\n"
     ]
    }
   ],
   "source": [
    "cliente_id = 1000\n",
    "\n",
    "cliente = clientes_df[clientes_df['ID_Cliente'] == cliente_id].iloc[0]\n",
    "print(cliente)"
   ]
  },
  {
   "cell_type": "code",
   "execution_count": 15,
   "metadata": {},
   "outputs": [],
   "source": [
    "# Vectorizer\n",
    "from sklearn.feature_extraction.text import CountVectorizer\n",
    "vectorizer = CountVectorizer(token_pattern=r\"(?u)\\b\\w+\\b\")\n",
    "\n",
    "publico = 'Adulto'\n",
    "genero = 'Masculino'"
   ]
  },
  {
   "cell_type": "code",
   "execution_count": 16,
   "metadata": {},
   "outputs": [
    {
     "name": "stdout",
     "output_type": "stream",
     "text": [
      "      ID_Cliente  ID_Tenis Data_Compra  Quantidade   Preço  Tamanho_Comprado\n",
      "2825        1000        28  2023-11-11           2  472.38                44\n",
      "3000        1000         2  2023-12-25           1  294.01                41\n",
      "\n",
      "[28, 2]\n"
     ]
    }
   ],
   "source": [
    "compras_cliente = compras_df[compras_df['ID_Cliente'] == cliente_id]\n",
    "print(compras_cliente, end='\\n\\n')\n",
    "\n",
    "tenis_comprados = compras_cliente['ID_Tenis'].tolist()\n",
    "print(tenis_comprados)"
   ]
  },
  {
   "cell_type": "code",
   "execution_count": null,
   "metadata": {},
   "outputs": [
    {
     "name": "stdout",
     "output_type": "stream",
     "text": [
      "    ID_Tenis             Nome Categoria Publico     Genero       Cor  \\\n",
      "1          2   Tênis Modelo 2   Corrida  Adulto    Unissex      Rosa   \n",
      "27        28  Tênis Modelo 28   Corrida  Adulto  Masculino  Vermelho   \n",
      "\n",
      "                                             Estoque  \n",
      "1                           {40: 49, 42: 14, 30: 70}  \n",
      "27  {33: 40, 35: 99, 30: 52, 45: 95, 36: 17, 40: 18}  \n",
      "\n",
      "    ID_Tenis             Nome      Categoria Publico     Genero       Cor  \\\n",
      "1          2   Tênis Modelo 2        Corrida  Adulto    Unissex      Rosa   \n",
      "8          9   Tênis Modelo 9         Casual  Adulto  Masculino     Cinza   \n",
      "12        13  Tênis Modelo 13         Social  Adulto  Masculino      Rosa   \n",
      "13        14  Tênis Modelo 14         Social  Adulto    Unissex     Cinza   \n",
      "14        15  Tênis Modelo 15        Corrida  Adulto  Masculino     Preto   \n",
      "20        21  Tênis Modelo 21  Personalizado  Adulto  Masculino   Amarelo   \n",
      "23        24  Tênis Modelo 24        Corrida  Adulto    Unissex     Preto   \n",
      "26        27  Tênis Modelo 27      Esportivo  Adulto  Masculino    Branco   \n",
      "27        28  Tênis Modelo 28        Corrida  Adulto  Masculino  Vermelho   \n",
      "28        29  Tênis Modelo 29        Corrida  Adulto  Masculino     Verde   \n",
      "30        31  Tênis Modelo 31        Corrida  Adulto  Masculino     Verde   \n",
      "36        37  Tênis Modelo 37         Casual  Adulto    Unissex     Preto   \n",
      "38        39  Tênis Modelo 39         Social  Adulto  Masculino     Cinza   \n",
      "40        41  Tênis Modelo 41  Personalizado  Adulto  Masculino     Preto   \n",
      "41        42  Tênis Modelo 42         Social  Adulto  Masculino    Branco   \n",
      "43        44  Tênis Modelo 44      Esportivo  Adulto  Masculino  Vermelho   \n",
      "45        46  Tênis Modelo 46      Esportivo  Adulto  Masculino   Amarelo   \n",
      "47        48  Tênis Modelo 48        Corrida  Adulto  Masculino     Preto   \n",
      "53        54  Tênis Modelo 54        Corrida  Adulto  Masculino      Azul   \n",
      "55        56  Tênis Modelo 56         Social  Adulto  Masculino     Cinza   \n",
      "59        60  Tênis Modelo 60        Corrida  Adulto  Masculino  Vermelho   \n",
      "61        62  Tênis Modelo 62  Personalizado  Adulto  Masculino     Preto   \n",
      "65        66  Tênis Modelo 66  Personalizado  Adulto  Masculino      Azul   \n",
      "66        67  Tênis Modelo 67        Corrida  Adulto    Unissex     Preto   \n",
      "69        70  Tênis Modelo 70  Personalizado  Adulto  Masculino     Preto   \n",
      "70        71  Tênis Modelo 71      Esportivo  Adulto    Unissex   Amarelo   \n",
      "75        76  Tênis Modelo 76        Corrida  Adulto  Masculino      Rosa   \n",
      "81        82  Tênis Modelo 82        Corrida  Adulto  Masculino  Vermelho   \n",
      "82        83  Tênis Modelo 83      Esportivo  Adulto  Masculino     Cinza   \n",
      "83        84  Tênis Modelo 84         Social  Adulto    Unissex      Rosa   \n",
      "85        86  Tênis Modelo 86      Esportivo  Adulto  Masculino     Verde   \n",
      "87        88  Tênis Modelo 88         Casual  Adulto    Unissex      Rosa   \n",
      "89        90  Tênis Modelo 90         Casual  Adulto  Masculino     Preto   \n",
      "91        92  Tênis Modelo 92         Casual  Adulto  Masculino  Vermelho   \n",
      "\n",
      "                                              Estoque  \n",
      "1                            {40: 49, 42: 14, 30: 70}  \n",
      "8            {36: 63, 44: 53, 41: 44, 40: 88, 45: 77}  \n",
      "12  {43: 100, 41: 74, 39: 77, 40: 38, 37: 53, 36: 77}  \n",
      "13                           {42: 25, 37: 19, 40: 76}  \n",
      "14                   {41: 90, 33: 13, 40: 99, 32: 58}  \n",
      "20   {39: 40, 30: 46, 36: 29, 41: 53, 45: 35, 31: 26}  \n",
      "23           {32: 41, 37: 87, 39: 88, 45: 28, 42: 54}  \n",
      "26           {31: 41, 34: 18, 35: 45, 40: 55, 38: 15}  \n",
      "27   {33: 40, 35: 99, 30: 52, 45: 95, 36: 17, 40: 18}  \n",
      "28           {31: 64, 33: 88, 37: 26, 36: 98, 40: 26}  \n",
      "30                           {37: 53, 34: 84, 43: 24}  \n",
      "36                           {39: 85, 42: 50, 44: 84}  \n",
      "38                   {39: 18, 30: 99, 41: 93, 44: 61}  \n",
      "40           {36: 23, 41: 51, 37: 37, 40: 89, 38: 77}  \n",
      "41                           {36: 99, 40: 54, 45: 99}  \n",
      "43           {39: 62, 30: 63, 41: 10, 40: 37, 43: 75}  \n",
      "45                   {35: 24, 41: 88, 39: 20, 31: 46}  \n",
      "47           {39: 96, 44: 72, 30: 28, 31: 47, 32: 49}  \n",
      "53           {45: 24, 40: 86, 36: 67, 34: 38, 30: 54}  \n",
      "55   {39: 17, 30: 44, 35: 19, 44: 63, 43: 13, 31: 58}  \n",
      "59   {37: 54, 40: 41, 44: 68, 33: 68, 32: 90, 45: 84}  \n",
      "61   {33: 32, 37: 32, 44: 40, 31: 29, 30: 27, 41: 52}  \n",
      "65   {44: 60, 31: 75, 30: 26, 33: 11, 36: 83, 39: 53}  \n",
      "66  {38: 42, 32: 100, 36: 36, 45: 30, 40: 46, 37: 49}  \n",
      "69                   {36: 67, 44: 16, 32: 90, 30: 57}  \n",
      "70                   {37: 38, 32: 67, 30: 36, 34: 91}  \n",
      "75           {33: 59, 41: 65, 36: 28, 38: 28, 40: 30}  \n",
      "81                   {42: 22, 39: 74, 34: 47, 43: 54}  \n",
      "82                   {33: 42, 42: 75, 36: 82, 38: 95}  \n",
      "83   {31: 43, 45: 21, 38: 74, 33: 42, 37: 25, 39: 12}  \n",
      "85                   {30: 74, 40: 69, 35: 64, 34: 25}  \n",
      "87   {33: 15, 43: 91, 38: 59, 39: 78, 42: 39, 32: 35}  \n",
      "89           {38: 13, 35: 64, 30: 33, 39: 30, 36: 17}  \n",
      "91   {36: 55, 32: 24, 43: 32, 45: 67, 34: 29, 42: 81}  \n"
     ]
    }
   ],
   "source": [
    "tenis_comprados_df = tenis_df[tenis_df['ID_Tenis'].isin(tenis_comprados)]\n",
    "print(tenis_comprados_df, end='\\n\\n')\n",
    "\n",
    "tenis_disponiveis = tenis_df[(tenis_df['Publico'] == publico) & (tenis_df['Genero'].isin([genero, \"Unissex\"]))]\n",
    "print(tenis_disponiveis)"
   ]
  },
  {
   "cell_type": "code",
   "execution_count": null,
   "metadata": {},
   "outputs": [
    {
     "name": "stdout",
     "output_type": "stream",
     "text": [
      "1              Corrida Rosa\n",
      "8              Casual Cinza\n",
      "12              Social Rosa\n",
      "13             Social Cinza\n",
      "14            Corrida Preto\n",
      "20    Personalizado Amarelo\n",
      "23            Corrida Preto\n",
      "26         Esportivo Branco\n",
      "27         Corrida Vermelho\n",
      "28            Corrida Verde\n",
      "30            Corrida Verde\n",
      "36             Casual Preto\n",
      "38             Social Cinza\n",
      "40      Personalizado Preto\n",
      "41            Social Branco\n",
      "43       Esportivo Vermelho\n",
      "45        Esportivo Amarelo\n",
      "47            Corrida Preto\n",
      "53             Corrida Azul\n",
      "55             Social Cinza\n",
      "59         Corrida Vermelho\n",
      "61      Personalizado Preto\n",
      "65       Personalizado Azul\n",
      "66            Corrida Preto\n",
      "69      Personalizado Preto\n",
      "70        Esportivo Amarelo\n",
      "75             Corrida Rosa\n",
      "81         Corrida Vermelho\n",
      "82          Esportivo Cinza\n",
      "83              Social Rosa\n",
      "85          Esportivo Verde\n",
      "87              Casual Rosa\n",
      "89             Casual Preto\n",
      "91          Casual Vermelho\n",
      "dtype: object\n",
      "\n",
      "<Compressed Sparse Row sparse matrix of dtype 'int64'\n",
      "\twith 68 stored elements and shape (34, 13)>\n",
      "  Coords\tValues\n",
      "  (0, 5)\t1\n",
      "  (0, 9)\t1\n",
      "  (1, 3)\t1\n",
      "  (1, 4)\t1\n",
      "  (2, 9)\t1\n",
      "  (2, 10)\t1\n",
      "  (3, 4)\t1\n",
      "  (3, 10)\t1\n",
      "  (4, 5)\t1\n",
      "  (4, 8)\t1\n",
      "  (5, 7)\t1\n",
      "  (5, 0)\t1\n",
      "  (6, 5)\t1\n",
      "  (6, 8)\t1\n",
      "  (7, 6)\t1\n",
      "  (7, 2)\t1\n",
      "  (8, 5)\t1\n",
      "  (8, 12)\t1\n",
      "  (9, 5)\t1\n",
      "  (9, 11)\t1\n",
      "  (10, 5)\t1\n",
      "  (10, 11)\t1\n",
      "  (11, 3)\t1\n",
      "  (11, 8)\t1\n",
      "  (12, 4)\t1\n",
      "  :\t:\n",
      "  (21, 7)\t1\n",
      "  (22, 7)\t1\n",
      "  (22, 1)\t1\n",
      "  (23, 5)\t1\n",
      "  (23, 8)\t1\n",
      "  (24, 8)\t1\n",
      "  (24, 7)\t1\n",
      "  (25, 0)\t1\n",
      "  (25, 6)\t1\n",
      "  (26, 5)\t1\n",
      "  (26, 9)\t1\n",
      "  (27, 5)\t1\n",
      "  (27, 12)\t1\n",
      "  (28, 4)\t1\n",
      "  (28, 6)\t1\n",
      "  (29, 9)\t1\n",
      "  (29, 10)\t1\n",
      "  (30, 6)\t1\n",
      "  (30, 11)\t1\n",
      "  (31, 9)\t1\n",
      "  (31, 3)\t1\n",
      "  (32, 3)\t1\n",
      "  (32, 8)\t1\n",
      "  (33, 3)\t1\n",
      "  (33, 12)\t1\n"
     ]
    }
   ],
   "source": [
    "caracteristicas = tenis_disponiveis[['Categoria', 'Cor']].apply(lambda x: ' '.join(x), axis=1)\n",
    "print(caracteristicas, end='\\n\\n')\n",
    "\n",
    "caracteristicas_matrix = vectorizer.fit_transform(caracteristicas)\n",
    "print(caracteristicas_matrix)"
   ]
  },
  {
   "cell_type": "code",
   "execution_count": 19,
   "metadata": {},
   "outputs": [
    {
     "name": "stdout",
     "output_type": "stream",
     "text": [
      "1         Corrida Rosa\n",
      "27    Corrida Vermelho\n",
      "dtype: object\n",
      "\n",
      "<Compressed Sparse Row sparse matrix of dtype 'int64'\n",
      "\twith 4 stored elements and shape (2, 13)>\n",
      "  Coords\tValues\n",
      "  (0, 5)\t1\n",
      "  (0, 9)\t1\n",
      "  (1, 5)\t1\n",
      "  (1, 12)\t1\n"
     ]
    }
   ],
   "source": [
    "caracteristicas_compradas = tenis_comprados_df[['Categoria', 'Cor']].apply(lambda x: ' '.join(x), axis=1)\n",
    "print(caracteristicas_compradas, end='\\n\\n')\n",
    "\n",
    "caracteristicas_compradas_matrix = vectorizer.transform(caracteristicas_compradas)\n",
    "print(caracteristicas_compradas_matrix)"
   ]
  },
  {
   "cell_type": "code",
   "execution_count": 22,
   "metadata": {},
   "outputs": [
    {
     "name": "stdout",
     "output_type": "stream",
     "text": [
      "[0.75 0.   0.25 0.   0.5  0.   0.5  0.   0.75 0.5  0.5  0.   0.   0.\n",
      " 0.   0.25 0.   0.5  0.5  0.   0.75 0.   0.   0.5  0.   0.   0.75 0.75\n",
      " 0.   0.25 0.   0.25 0.   0.25]\n"
     ]
    }
   ],
   "source": [
    "from sklearn.metrics.pairwise import cosine_similarity\n",
    "\n",
    "similarity = cosine_similarity(caracteristicas_compradas_matrix, caracteristicas_matrix).mean(axis=0)\n",
    "print(similarity)"
   ]
  },
  {
   "cell_type": "code",
   "execution_count": 26,
   "metadata": {},
   "outputs": [],
   "source": [
    "import numpy as np\n",
    "\n",
    "def gerar_recomendacoes(similarity_scores):\n",
    "    sorted_indices = np.argsort(similarity_scores)[::-1]\n",
    "    recomendacoes_ids = []\n",
    "    recomendacoes_data = []\n",
    "\n",
    "    for index in sorted_indices:\n",
    "        tenis_id = tenis_disponiveis.iloc[index]['ID_Tenis']\n",
    "        tamanho_comprado = compras_cliente['Tamanho_Comprado'].tolist()\n",
    "\n",
    "        tem_no_estoque = any(str(tam) in tenis_disponiveis.iloc[index]['Estoque'] for tam in tamanho_comprado)\n",
    "\n",
    "        if tem_no_estoque and tenis_id not in recomendacoes_ids:\n",
    "            recomendacoes_ids.append(tenis_id)\n",
    "            recomendacoes_data.append(tenis_disponiveis.iloc[index])\n",
    "\n",
    "    return pd.DataFrame(recomendacoes_data)[['ID_Tenis', 'Nome', 'Categoria', 'Genero', 'Publico', 'Cor']] if recomendacoes_data else pd.DataFrame()\n"
   ]
  },
  {
   "cell_type": "code",
   "execution_count": 27,
   "metadata": {},
   "outputs": [],
   "source": [
    "recomendacoes = gerar_recomendacoes(similarity)"
   ]
  },
  {
   "cell_type": "code",
   "execution_count": 31,
   "metadata": {},
   "outputs": [
    {
     "name": "stdout",
     "output_type": "stream",
     "text": [
      "\n",
      "Geral:\n",
      "    ID_Tenis             Nome Categoria     Genero Publico       Cor\n",
      "75        76  Tênis Modelo 76   Corrida  Masculino  Adulto      Rosa\n",
      "59        60  Tênis Modelo 60   Corrida  Masculino  Adulto  Vermelho\n",
      "47        48  Tênis Modelo 48   Corrida  Masculino  Adulto     Preto\n"
     ]
    }
   ],
   "source": [
    "if not recomendacoes.empty:\n",
    "    print(\"\\nGeral:\")\n",
    "    print(recomendacoes.head(3))"
   ]
  },
  {
   "cell_type": "markdown",
   "metadata": {},
   "source": [
    "# Melhoria do Sistema de Recomendação:\n",
    "### Fazer com que o algoritmo de preferencia para recomendacoes baseadas na cor ou na categoria predominante do produto no historico de compras do cliente.\n",
    "\n",
    "---\n",
    "#### Exemplo:\n",
    "O cliente X comprou 3 tênis, todos eram pretos, dois eram da categoria 'Casual' e um da categoria 'Personalizado'\n",
    "\n",
    "O algortimo deve retornar 3 tabelas (DataFrames), uma geral, onde a relevância da cor e da categoria são iguais.\n",
    "Uma por Cor, onde o algoritmo da preferência para a Cor. No exemplo, o algoritmo retornaria recomendações de tênis pretos.\n",
    "Uma por Categoria, onde o algoritmo da preferência para a Categoria. No exemplo, o algoritmo retornaria recomendações de tênis Casuais/Personalizado.\n",
    "\n",
    "---"
   ]
  }
 ],
 "metadata": {
  "kernelspec": {
   "display_name": ".venv",
   "language": "python",
   "name": "python3"
  },
  "language_info": {
   "codemirror_mode": {
    "name": "ipython",
    "version": 3
   },
   "file_extension": ".py",
   "mimetype": "text/x-python",
   "name": "python",
   "nbconvert_exporter": "python",
   "pygments_lexer": "ipython3",
   "version": "3.12.3"
  }
 },
 "nbformat": 4,
 "nbformat_minor": 2
}
